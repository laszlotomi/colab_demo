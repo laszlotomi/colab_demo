{
  "nbformat": 4,
  "nbformat_minor": 0,
  "metadata": {
    "colab": {
      "name": "Copy of AR_glas_git.ipynb",
      "provenance": [],
      "collapsed_sections": [],
      "toc_visible": true
    },
    "kernelspec": {
      "name": "python3",
      "display_name": "Python 3"
    },
    "accelerator": "GPU"
  },
  "cells": [
    {
      "cell_type": "code",
      "metadata": {
        "id": "CGaFXJIjjWXC",
        "colab_type": "code",
        "colab": {}
      },
      "source": [
        "# Restart runtime using 'Runtime' -> 'Restart runtime...'\n",
        "%tensorflow_version 1.x\n",
        "import tensorflow as tf\n",
        "print(tf.__version__)\n",
        "device_name = tf.test.gpu_device_name()\n",
        "if device_name != '/device:GPU:0':\n",
        "  raise SystemError('GPU device not found')\n",
        "else:\n",
        "  print('Found GPU at: {}'.format(device_name))\n",
        "\n",
        "#Clone git repos\n",
        "import os\n",
        "if os.getcwd() != '/content':\n",
        "  %cd /content\n",
        "!git clone https://github.com/tensorflow/models\n",
        "!git clone https://github.com/laszlotomi/colab_demo.git \n",
        "\n",
        "#isntall dependencies\n",
        "!apt-get install protobuf-compiler python-pil python-lxml python-tk\n",
        "!pip install Cython\n",
        "\n",
        "#Create proto files\n",
        "%cd /content/models/research/\n",
        "!protoc object_detection/protos/*.proto --python_out=.\n",
        "\n",
        "#set environment variables\n",
        "os.environ['PYTHONPATH'] += ':/content/models/research/:/content/models/research/slim'\n",
        "\n",
        "#Build app\n",
        "!python setup.py build\n",
        "!python setup.py install\n",
        "\n",
        "#Run the test\n",
        "!python object_detection/builders/model_builder_test.py\n",
        "\n",
        "%cd object_detection/"
      ],
      "execution_count": 0,
      "outputs": []
    },
    {
      "cell_type": "code",
      "metadata": {
        "id": "OkMP3y8O-ijq",
        "colab_type": "code",
        "colab": {}
      },
      "source": [
        "#Copy required files\n",
        "%cp /content/colab_demo/xml_to_csv.py /content/models/research/object_detection/xml_to_csv.py\n",
        "%cp /content/colab_demo/generate_tfrecord.py generate_tfrecord.py\n",
        "!mkdir training\n",
        "%cp /content/colab_demo/labelmap.pbtxt training/labelmap.pbtxt\n",
        "%cp /content/colab_demo/configs/faster_rcnn_inception_v2_coco.config training/faster_rcnn_inception_v2_coco.config\n",
        "%cp /content/colab_demo/configs/ssd_inception_v2_coco.config training/ssd_inception_v2_coco.config\n",
        "%cp /content/models/research/object_detection/legacy/train.py train.py \n",
        "%cp -R /content/colab_demo/images /content/models/research/object_detection/"
      ],
      "execution_count": 0,
      "outputs": []
    },
    {
      "cell_type": "code",
      "metadata": {
        "id": "gSA2e_yB-N5U",
        "colab_type": "code",
        "colab": {}
      },
      "source": [
        "#Convert xml to csv\n",
        "!python xml_to_csv.py\n",
        "# for test data\n",
        "!python generate_tfrecord.py --csv_input=data/test_labels.csv  --output_path=test.record  --image_dir=/content/colab_demo/images/test\n",
        "# for train data\n",
        "!python generate_tfrecord.py --csv_input=data/train_labels.csv  --output_path=train.record  --image_dir=/content/colab_demo/images/train\n"
      ],
      "execution_count": 0,
      "outputs": []
    },
    {
      "cell_type": "code",
      "metadata": {
        "id": "Avrh07shIfk9",
        "colab_type": "code",
        "colab": {}
      },
      "source": [
        "#cd /content/colab_demo/\n",
        "#!git init"
      ],
      "execution_count": 0,
      "outputs": []
    },
    {
      "cell_type": "code",
      "metadata": {
        "id": "M29pB8tjAw8S",
        "colab_type": "code",
        "colab": {}
      },
      "source": [
        "model=\"faster_rcnn_inception_v2_coco_2018_01_28.tar.gz\"\n",
        "#model=\"ssd_mobilenet_v1_coco_2018_01_28.tar.gz\"\n",
        "url= os.path.join(\"http://download.tensorflow.org/models/object_detection/\", model)\n",
        "!wget $url\n",
        "!tar -xvf $model"
      ],
      "execution_count": 0,
      "outputs": []
    },
    {
      "cell_type": "code",
      "metadata": {
        "id": "iwrvw4y18fv1",
        "colab_type": "code",
        "colab": {}
      },
      "source": [
        "LOG_DIR = 'training'\n",
        "get_ipython().system_raw(\n",
        "    'tensorboard --logdir {} --host 0.0.0.0 --port 6006 &'\n",
        "    .format(LOG_DIR)\n",
        ")\n",
        "# Install\n",
        "! npm install -g localtunnel\n",
        "! npm i -g npm\n",
        "# Tunnel port 6006 (TensorBoard assumed running)\n",
        "get_ipython().system_raw('lt --port 6006 >> url1.txt 2>&1 &')\n",
        "# Get url\n",
        "! cat url1.txt"
      ],
      "execution_count": 0,
      "outputs": []
    },
    {
      "cell_type": "code",
      "metadata": {
        "id": "YbiAcSRLNpwB",
        "colab_type": "code",
        "colab": {}
      },
      "source": [
        "config_file = \"faster_rcnn_inception_v2_coco.config\"\n",
        "path = \"training/\" + config_file\n",
        "!python train.py --logtostderr --train_dir=training/ --pipeline_config_path=training/faster_rcnn_inception_v2_coco.config"
      ],
      "execution_count": 0,
      "outputs": []
    },
    {
      "cell_type": "code",
      "metadata": {
        "id": "Wdl-Tva9oGir",
        "colab_type": "code",
        "colab": {}
      },
      "source": [
        "# %rm -r /content/models/research/object_detection/training\n",
        "# %mkdir /content/models/research/object_detection/training\n",
        "# %cp /content/colab_demo/labelmap.pbtxt training/labelmap.pbtxt\n",
        "# # %cp /content/colab_demo/configs/faster_rcnn_inception_v2_coco.config training/faster_rcnn_inception_v2_coco.config"
      ],
      "execution_count": 0,
      "outputs": []
    },
    {
      "cell_type": "code",
      "metadata": {
        "id": "hWXzGMzn5FEL",
        "colab_type": "code",
        "colab": {}
      },
      "source": [
        "!python export_inference_graph.py \\\n",
        "--input_type image_tensor \\\n",
        "--pipeline_config_path training/faster_rcnn_inception_v2_coco.config \\\n",
        "--trained_checkpoint_prefix training/model.ckpt-0 \\\n",
        "--output_directory My_exp_graph/\n",
        "\n",
        "!zip -r MY_exp_g.zip My_exp_graph\n"
      ],
      "execution_count": 0,
      "outputs": []
    },
    {
      "cell_type": "code",
      "metadata": {
        "id": "XSCaIStS9GHz",
        "colab_type": "code",
        "colab": {}
      },
      "source": [
        "MODEL_NAME = 'My_exp_graph'\n",
        "PATH_TO_FROZEN_GRAPH = MODEL_NAME + '/frozen_inference_graph.pb'\n",
        "PATH_TO_LABELS = 'training/labelmap.pbtxt'\n",
        "NUM_CLASSES = 1 \n",
        "\n",
        "import numpy as np\n",
        "import os\n",
        "import six.moves.urllib as urllib\n",
        "import sys\n",
        "import tarfile\n",
        "import tensorflow as tf\n",
        "import zipfile\n",
        "from distutils.version import StrictVersion\n",
        "from collections import defaultdict\n",
        "from io import StringIO\n",
        "from matplotlib import pyplot as plt\n",
        "from PIL import Image\n",
        "# This is needed since the notebook is stored in the object_detection folder.\n",
        "sys.path.append(\"..\")\n",
        "from object_detection.utils import ops as utils_ops\n",
        "%matplotlib inline\n",
        "from utils import label_map_util\n",
        "from utils import visualization_utils as vis_util\n",
        "\n",
        "detection_graph = tf.Graph()\n",
        "with detection_graph.as_default():\n",
        "  od_graph_def = tf.GraphDef()\n",
        "  with tf.gfile.GFile(PATH_TO_FROZEN_GRAPH, 'rb') as fid:\n",
        "    serialized_graph = fid.read()\n",
        "    od_graph_def.ParseFromString(serialized_graph)\n",
        "    tf.import_graph_def(od_graph_def, name='')\n",
        "\n",
        "# Loading label map\n",
        "category_index = label_map_util.create_category_index_from_labelmap(PATH_TO_LABELS, use_display_name=True)\n",
        "\n",
        "#Helper code\n",
        "def load_image_into_numpy_array(image):\n",
        "  (im_width, im_height) = image.size\n",
        "  return np.array(image.getdata()).reshape((im_height, im_width, 3)).astype(np.uint8)\n",
        "\n",
        "import glob\n",
        "TEST_IMAGE_PATHS = []\n",
        "for filename in glob.iglob('./test_images/*.JPEG', recursive=True):\n",
        "    TEST_IMAGE_PATHS.append(filename)\n",
        "# Size, in inches, of the output images.\n",
        "IMAGE_SIZE = (12, 8)\n",
        "\n"
      ],
      "execution_count": 0,
      "outputs": []
    },
    {
      "cell_type": "code",
      "metadata": {
        "id": "zBlZT7gp9Z3u",
        "colab_type": "code",
        "colab": {}
      },
      "source": [
        "def run_inference_for_single_image(image, graph):\n",
        "  with graph.as_default():\n",
        "    with tf.Session() as sess:\n",
        "      # Get handles to input and output tensors\n",
        "      ops = tf.get_default_graph().get_operations()\n",
        "      all_tensor_names = {output.name for op in ops for output in op.outputs}\n",
        "      tensor_dict = {}\n",
        "      for key in [\n",
        "          'num_detections', 'detection_boxes', 'detection_scores',\n",
        "          'detection_classes', 'detection_masks'\n",
        "      ]:\n",
        "        tensor_name = key + ':0'\n",
        "        if tensor_name in all_tensor_names:\n",
        "          tensor_dict[key] = tf.get_default_graph().get_tensor_by_name(\n",
        "              tensor_name)\n",
        "      if 'detection_masks' in tensor_dict:\n",
        "        # The following processing is only for single image\n",
        "        detection_boxes = tf.squeeze(tensor_dict['detection_boxes'], [0])\n",
        "        detection_masks = tf.squeeze(tensor_dict['detection_masks'], [0])\n",
        "        # Reframe is required to translate mask from box coordinates to image coordinates and fit the image size.\n",
        "        real_num_detection = tf.cast(tensor_dict['num_detections'][0], tf.int32)\n",
        "        detection_boxes = tf.slice(detection_boxes, [0, 0], [real_num_detection, -1])\n",
        "        detection_masks = tf.slice(detection_masks, [0, 0, 0], [real_num_detection, -1, -1])\n",
        "        detection_masks_reframed = utils_ops.reframe_box_masks_to_image_masks(\n",
        "            detection_masks, detection_boxes, image.shape[0], image.shape[1])\n",
        "        detection_masks_reframed = tf.cast(\n",
        "            tf.greater(detection_masks_reframed, 0.5), tf.uint8)\n",
        "        # Follow the convention by adding back the batch dimension\n",
        "        tensor_dict['detection_masks'] = tf.expand_dims(\n",
        "            detection_masks_reframed, 0)\n",
        "      image_tensor = tf.get_default_graph().get_tensor_by_name('image_tensor:0')\n",
        "\n",
        "      # Run inference\n",
        "      output_dict = sess.run(tensor_dict,\n",
        "                             feed_dict={image_tensor: np.expand_dims(image, 0)})\n",
        "\n",
        "      # all outputs are float32 numpy arrays, so convert types as appropriate\n",
        "      output_dict['num_detections'] = int(output_dict['num_detections'][0])\n",
        "      output_dict['detection_classes'] = output_dict[\n",
        "          'detection_classes'][0].astype(np.uint8)\n",
        "      output_dict['detection_boxes'] = output_dict['detection_boxes'][0]\n",
        "      output_dict['detection_scores'] = output_dict['detection_scores'][0]\n",
        "      if 'detection_masks' in output_dict:\n",
        "        output_dict['detection_masks'] = output_dict['detection_masks'][0]\n",
        "  return output_dict"
      ],
      "execution_count": 0,
      "outputs": []
    },
    {
      "cell_type": "code",
      "metadata": {
        "id": "CIGe_w159k-r",
        "colab_type": "code",
        "colab": {}
      },
      "source": [
        "for image_path in TEST_IMAGE_PATHS:\n",
        "  image = Image.open(image_path)\n",
        "  # the array based representation of the image will be used later in order to prepare the\n",
        "  # result image with boxes and labels on it.\n",
        "  image_np = load_image_into_numpy_array(image)\n",
        "  # Expand dimensions since the model expects images to have shape: [1, None, None, 3]\n",
        "  image_np_expanded = np.expand_dims(image_np, axis=0)\n",
        "  # Actual detection.\n",
        "  output_dict = run_inference_for_single_image(image_np, detection_graph)\n",
        "  # Visualization of the results of a detection.\n",
        "  vis_util.visualize_boxes_and_labels_on_image_array(\n",
        "      image_np,\n",
        "      output_dict['detection_boxes'],\n",
        "      output_dict['detection_classes'],\n",
        "      output_dict['detection_scores'],\n",
        "      category_index,\n",
        "      instance_masks=output_dict.get('detection_masks'),\n",
        "      use_normalized_coordinates=True,\n",
        "      line_thickness=4)\n",
        "  #print(category_index)\n",
        "  plt.figure(figsize=IMAGE_SIZE)\n",
        "  plt.imshow(image_np)\n",
        "  plt.grid(False)\n",
        "  "
      ],
      "execution_count": 0,
      "outputs": []
    }
  ]
}